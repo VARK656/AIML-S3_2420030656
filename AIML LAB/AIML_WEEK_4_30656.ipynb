{
  "nbformat": 4,
  "nbformat_minor": 0,
  "metadata": {
    "colab": {
      "provenance": []
    },
    "kernelspec": {
      "name": "python3",
      "display_name": "Python 3"
    },
    "language_info": {
      "name": "python"
    }
  },
  "cells": [
    {
      "cell_type": "code",
      "source": [
        "from collections import defaultdict\n",
        "\n",
        "# Define courses with faculty, room info, and lab requirement\n",
        "courses = {\n",
        "    \"C1\": {\"faculty\": \"F1\", \"room\": \"R1\", \"lab\": False},\n",
        "    \"C2\": {\"faculty\": \"F2\", \"room\": \"R2\", \"lab\": True},\n",
        "    \"C3\": {\"faculty\": \"F1\", \"room\": \"R3\", \"lab\": False},\n",
        "    \"C4\": {\"faculty\": \"F3\", \"room\": \"R2\", \"lab\": True},\n",
        "    \"C5\": {\"faculty\": \"F4\", \"room\": \"R1\", \"lab\": False},\n",
        "}\n",
        "\n",
        "# Domain: 3 available slots per day\n",
        "slots = [\"Slot1\", \"Slot2\", \"Slot3\"]\n",
        "\n",
        "# Define lab-available slots (e.g., labs only in Slot2 and Slot3)\n",
        "lab_slots = [\"Slot2\", \"Slot3\"]\n",
        "\n",
        "domains = {}\n",
        "for course, details in courses.items():\n",
        "    if details[\"lab\"]:\n",
        "        domains[course] = lab_slots[:]  # labs only allowed in specific slots\n",
        "    else:\n",
        "        domains[course] = slots[:]\n",
        "\n",
        "# Check constraints\n",
        "def is_consistent(assignment, course, slot):\n",
        "    faculty = courses[course][\"faculty\"]\n",
        "    room = courses[course][\"room\"]\n",
        "    for c, s in assignment.items():\n",
        "        if s == slot:\n",
        "            if courses[c][\"faculty\"] == faculty:\n",
        "                return False  # faculty conflict\n",
        "            if courses[c][\"room\"] == room:\n",
        "                return False  # room conflict\n",
        "    return True\n",
        "\n",
        "# Minimum Remaining Values (MRV) heuristic\n",
        "def select_unassigned_variable(assignment, domains):\n",
        "    unassigned = [v for v in domains if v not in assignment]\n",
        "    # choose variable with fewest legal values\n",
        "    return min(unassigned, key=lambda var: len(domains[var]))\n",
        "\n",
        "# Backtracking search\n",
        "def backtrack(assignment, domains):\n",
        "    if len(assignment) == len(courses):\n",
        "        return assignment\n",
        "\n",
        "    var = select_unassigned_variable(assignment, domains)\n",
        "    for value in domains[var]:\n",
        "        if is_consistent(assignment, var, value):\n",
        "            assignment[var] = value\n",
        "            # forward check: reduce domain\n",
        "            new_domains = {v: d[:] for v, d in domains.items()}\n",
        "            new_domains[var] = [value]\n",
        "            result = backtrack(assignment, new_domains)\n",
        "            if result:\n",
        "                return result\n",
        "            del assignment[var]\n",
        "    return None\n",
        "\n",
        "# Solve\n",
        "solution = backtrack({}, domains)\n",
        "\n",
        "# Print timetable\n",
        "if solution:\n",
        "    print(\"Final Timetable:\")\n",
        "    print(\"Course | Faculty | Room | Lab  | Slot\")\n",
        "    print(\"-\"*45)\n",
        "    for course, slot in solution.items():\n",
        "        f = courses[course][\"faculty\"]\n",
        "        r = courses[course][\"room\"]\n",
        "        lab = \"Yes\" if courses[course][\"lab\"] else \"No\"\n",
        "        print(f\"{course:6} | {f:7} | {r:4} | {lab:3} | {slot}\")\n",
        "else:\n",
        "    print(\"No valid timetable found!\")\n"
      ],
      "metadata": {
        "colab": {
          "base_uri": "https://localhost:8080/"
        },
        "id": "KIDcnactnq1K",
        "outputId": "a765a2bd-1aa3-4ce8-8a75-3b59cb797159"
      },
      "execution_count": 1,
      "outputs": [
        {
          "output_type": "stream",
          "name": "stdout",
          "text": [
            "Final Timetable:\n",
            "Course | Faculty | Room | Lab  | Slot\n",
            "---------------------------------------------\n",
            "C2     | F2      | R2   | Yes | Slot2\n",
            "C4     | F3      | R2   | Yes | Slot3\n",
            "C1     | F1      | R1   | No  | Slot1\n",
            "C3     | F1      | R3   | No  | Slot2\n",
            "C5     | F4      | R1   | No  | Slot2\n"
          ]
        }
      ]
    }
  ]
}