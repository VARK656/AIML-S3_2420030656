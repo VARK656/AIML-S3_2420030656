{
  "nbformat": 4,
  "nbformat_minor": 0,
  "metadata": {
    "colab": {
      "provenance": []
    },
    "kernelspec": {
      "name": "python3",
      "display_name": "Python 3"
    },
    "language_info": {
      "name": "python"
    }
  },
  "cells": [
    {
      "cell_type": "code",
      "execution_count": 11,
      "metadata": {
        "colab": {
          "base_uri": "https://localhost:8080/"
        },
        "id": "fKzEXgGLKczg",
        "outputId": "a248d400-fcb5-49d4-9408-33f55933077a"
      },
      "outputs": [
        {
          "output_type": "stream",
          "name": "stdout",
          "text": [
            "Path from 5 to 8: ['5', '7', '8']\n"
          ]
        }
      ],
      "source": [
        "#BFS PATH\n",
        "graph = {\n",
        "    '5': ['3', '7'],\n",
        "    '3': ['2', '4'],\n",
        "    '7': ['8'],\n",
        "    '2': [],\n",
        "    '4': ['8'],\n",
        "    '8': []\n",
        "}\n",
        "\n",
        "def bfs_path(graph, start, goal):\n",
        "    visited = [start]\n",
        "    queue = [[start]]\n",
        "\n",
        "    while queue:\n",
        "        path = queue.pop(0)\n",
        "        node = path[-1]\n",
        "\n",
        "        if node == goal:\n",
        "            return path\n",
        "\n",
        "        for neighbour in graph[node]:\n",
        "            if neighbour not in visited:\n",
        "                visited.append(neighbour)\n",
        "                new_path = list(path)\n",
        "                new_path.append(neighbour)\n",
        "                queue.append(new_path)\n",
        "\n",
        "    return None\n",
        "\n",
        "print(\"Path from 5 to 8:\", bfs_path(graph, '5', '8'))"
      ]
    },
    {
      "cell_type": "code",
      "source": [
        "#DFS PATH\n",
        "def dfs_path(graph, start, goal):\n",
        "    visited = set()\n",
        "    stack = [[start]]  # Stack of paths, each path is a list of nodes\n",
        "\n",
        "    while stack:\n",
        "        path = stack.pop()  # Pop the last path (LIFO)\n",
        "        node = path[-1]  # Get the last node in the path\n",
        "\n",
        "        if node == goal:\n",
        "            return path\n",
        "\n",
        "        if node not in visited:\n",
        "            visited.add(node)\n",
        "            for neighbour in graph[node]:\n",
        "                if neighbour not in visited:\n",
        "                    new_path = list(path)\n",
        "                    new_path.append(neighbour)\n",
        "                    stack.append(new_path)\n",
        "\n",
        "    return None\n",
        "\n",
        "# Test DFS\n",
        "graph = {\n",
        "    '5': ['3', '7'],\n",
        "    '3': ['2', '4'],\n",
        "    '7': ['8'],\n",
        "    '2': [],\n",
        "    '4': ['8'],\n",
        "    '8': []\n",
        "}\n",
        "print(\"DFS Path from 5 to 8:\", dfs_path(graph, '5', '8'))"
      ],
      "metadata": {
        "id": "JVofBn7nQaVE"
      },
      "execution_count": null,
      "outputs": []
    },
    {
      "cell_type": "code",
      "source": [
        "#Iterative Deepening Search (IDS)\n",
        "def dfs_limited(graph, node, goal, depth, path, visited):\n",
        "    if depth < 0:\n",
        "        return None\n",
        "    if node == goal:\n",
        "        return path\n",
        "\n",
        "    visited.add(node)\n",
        "    for neighbour in graph[node]:\n",
        "        if neighbour not in visited:\n",
        "            result = dfs_limited(graph, neighbour, goal, depth - 1, path + [neighbour], visited.copy())\n",
        "            if result:\n",
        "                return result\n",
        "    return None\n",
        "\n",
        "def ids_path(graph, start, goal):\n",
        "    depth = 0\n",
        "    while True:\n",
        "        result = dfs_limited(graph, start, goal, depth, [start], set())\n",
        "        if result:\n",
        "            return result\n",
        "        depth += 1\n",
        "        if depth > len(graph):  # Prevent infinite loops in disconnected graphs\n",
        "            return None\n",
        "\n",
        "# Test IDS\n",
        "print(\"IDS Path from 5 to 8:\", ids_path(graph, '5', '8'))"
      ],
      "metadata": {
        "id": "V7u3uDo7Qkxk"
      },
      "execution_count": 10,
      "outputs": []
    },
    {
      "cell_type": "code",
      "source": [
        "#A* Algorithm\n",
        "from heapq import heappush, heappop\n",
        "\n",
        "def a_star_path(graph, start, goal):\n",
        "\n",
        "    def heuristic(node, goal):\n",
        "        return 0\n",
        "\n",
        "    queue = [(0, [start])]\n",
        "    visited = set()\n",
        "    g_scores = {start: 0}\n",
        "\n",
        "    while queue:\n",
        "        f_score, path = heappop(queue)\n",
        "        node = path[-1]\n",
        "\n",
        "        if node == goal:\n",
        "            return path\n",
        "\n",
        "        if node not in visited:\n",
        "            visited.add(node)\n",
        "            for neighbour in graph[node]:\n",
        "                if neighbour not in visited:\n",
        "                    g_score = g_scores[node] + 1\n",
        "                    if neighbour not in g_scores or g_score < g_scores[neighbour]:\n",
        "                        g_scores[neighbour] = g_score\n",
        "                        f_score = g_score + heuristic(neighbour, goal)\n",
        "                        new_path = path + [neighbour]\n",
        "                        heappush(queue, (f_score, new_path))\n",
        "\n",
        "    return None\n",
        "\n",
        "\n",
        "print(\"A* Path from 5 to 8:\", a_star_path(graph, '5', '8'))"
      ],
      "metadata": {
        "colab": {
          "base_uri": "https://localhost:8080/"
        },
        "id": "0D5_NLDYQxZt",
        "outputId": "c30b4065-8d50-494e-bcd1-d2e2aaa5248d"
      },
      "execution_count": 12,
      "outputs": [
        {
          "output_type": "stream",
          "name": "stdout",
          "text": [
            "A* Path from 5 to 8: ['5', '7', '8']\n"
          ]
        }
      ]
    }
  ]
}